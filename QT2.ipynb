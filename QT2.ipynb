{
  "nbformat": 4,
  "nbformat_minor": 0,
  "metadata": {
    "colab": {
      "provenance": []
    },
    "kernelspec": {
      "name": "python3",
      "display_name": "Python 3"
    },
    "language_info": {
      "name": "python"
    }
  },
  "cells": [
    {
      "cell_type": "markdown",
      "source": [
        "# **Collaborative Filtering**"
      ],
      "metadata": {
        "id": "S5gRMQUKwW64"
      }
    },
    {
      "cell_type": "markdown",
      "source": [
        "# **Dataset Description: `ratings2k.csv`**\n",
        "**This dataset contains product rating information, with 2365 data samples and the following columns:**\n",
        "\n",
        "| Column Name | Description             | Data Type | Example     |\n",
        "|-------------|--------------------------|-----------|-------------|\n",
        "| `index`     | Row index                | Integer   | 0, 1, 2...   |\n",
        "| `user`      | User ID                  | String    | 73, 36, 72...  |\n",
        "| `item`      | Product ID               | String    | 52, 239, 26...  |\n",
        "| `rating`    | Rating (from 0.0 to 5.0) | Float     | 4, 3, 1...    |\n"
      ],
      "metadata": {
        "id": "IdzwfiDGwZfS"
      }
    },
    {
      "cell_type": "code",
      "source": [
        "from google.colab import drive\n",
        "drive.mount('/content/drive')"
      ],
      "metadata": {
        "colab": {
          "base_uri": "https://localhost:8080/"
        },
        "id": "5nu0XjVO0bA1",
        "outputId": "15cd3352-e3e1-4519-a3f5-5725464eca15"
      },
      "execution_count": null,
      "outputs": [
        {
          "output_type": "stream",
          "name": "stdout",
          "text": [
            "Drive already mounted at /content/drive; to attempt to forcibly remount, call drive.mount(\"/content/drive\", force_remount=True).\n"
          ]
        }
      ]
    },
    {
      "cell_type": "code",
      "source": [
        "!pip install pyspark py4j"
      ],
      "metadata": {
        "colab": {
          "base_uri": "https://localhost:8080/"
        },
        "id": "OXoJ451p0u0B",
        "outputId": "eaac5dc5-5bcf-43e9-81fc-29892c675afb"
      },
      "execution_count": null,
      "outputs": [
        {
          "output_type": "stream",
          "name": "stdout",
          "text": [
            "Requirement already satisfied: pyspark in /usr/local/lib/python3.11/dist-packages (3.5.1)\n",
            "Requirement already satisfied: py4j in /usr/local/lib/python3.11/dist-packages (0.10.9.7)\n"
          ]
        }
      ]
    },
    {
      "cell_type": "code",
      "source": [
        "from pyspark.sql import SparkSession\n",
        "from pyspark.sql.functions import col, avg, sqrt, sum as spark_sum, pow as spark_pow, abs as spark_abs, lit, when, expr\n",
        "from pyspark.sql.window import Window\n",
        "from pyspark.sql.types import StructType, StructField, IntegerType, FloatType\n",
        "from pyspark.sql import Row\n",
        "from pyspark.sql.functions import col, row_number\n",
        "from pyspark.sql.window import Window\n",
        "import matplotlib.pyplot as plt"
      ],
      "metadata": {
        "id": "SxNIpqAJuw0R"
      },
      "execution_count": null,
      "outputs": []
    },
    {
      "cell_type": "markdown",
      "source": [
        "## **Algorithms**\n",
        "Implement the Collaborative Filtering algorithm to recommend items for individual\n",
        "\n",
        "users using PySpark. It should be a class for future deployment.\n",
        "The similarity between users is measured using the Pearson correlation coefficient.\n",
        "\n",
        "The constructor takes in the value of N (number of similar users) and the data set as a data frame (PySpark).\n",
        "\n",
        "The function predict() takes in a user (a vector of ratings) and the expected number of recommended items. It returns a data frame (PySpark) consisting of recommended items sorted in the descending order of scores."
      ],
      "metadata": {
        "id": "9YL3IGYrwdo7"
      }
    },
    {
      "cell_type": "markdown",
      "source": [
        "## **Experiments**\n",
        "Load the given dataset to construct the utility matrix and then infer “profile” vectors for users and items.\n",
        "\n",
        "Divide the dataset into a training and test sets with the ratio of 8 : 2.\n",
        "\n",
        "Evaluate the algorithm in the test set with N in the range [2, 16]. After that, draw a bar chart to illustrate the RMSE values for each N."
      ],
      "metadata": {
        "id": "hDMlIZZJwgfK"
      }
    },
    {
      "cell_type": "markdown",
      "source": [
        "### **Lớp `CollaborativeFiltering`: Dự đoán đánh giá bằng lọc cộng tác dựa trên Pearson**\n",
        "\n",
        "Chuẩn hóa đánh giá để tính Pearson giữa người dùng.\n",
        "\n",
        "Chọn Top-N người dùng tương tự nhất cho mỗi người dùng cần dự đoán.\n",
        "\n",
        "Dự đoán đánh giá dựa trên đánh giá của hàng xóm có trọng số theo độ tương quan."
      ],
      "metadata": {
        "id": "VIuaGYxKwpRa"
      }
    },
    {
      "cell_type": "code",
      "source": [
        "class CollaborativeFiltering:\n",
        "    def __init__(self, df, N, similarity_threshold):\n",
        "        self.spark = df.sparkSession\n",
        "        self.df = df  # Dữ liệu đánh giá đầu vào\n",
        "        self.N = N  # Số lượng hàng xóm tương tự\n",
        "        self.similarity_threshold = similarity_threshold  # Ngưỡng tương quan Pearson\n",
        "        self._prepare()  # Chuẩn bị dữ liệu và tính toán tương đồng\n",
        "\n",
        "    def _prepare(self):\n",
        "        # Tính trung bình rating của mỗi người dùng\n",
        "        self.user_avg = self.df.groupBy(\"user\").agg(avg(\"rating\").alias(\"avg_rating\"))\n",
        "\n",
        "        # Chuẩn hóa rating bằng cách trừ trung bình của người dùng\n",
        "        normalized = self.df.join(self.user_avg, \"user\")\\\n",
        "                           .withColumn(\"norm_rating\", col(\"rating\") - col(\"avg_rating\"))\n",
        "\n",
        "        # Tạo cặp người dùng có cùng item\n",
        "        pair_ratings = normalized.alias(\"a\").join(\n",
        "            normalized.alias(\"b\"),\n",
        "            (col(\"a.item\") == col(\"b.item\")) & (col(\"a.user\") < col(\"b.user\")),\n",
        "            \"inner\"\n",
        "        )\n",
        "\n",
        "        # Tính các thành phần cho công thức tương quan Pearson\n",
        "        pair_scores = pair_ratings.select(\n",
        "            col(\"a.user\").alias(\"user1\"),\n",
        "            col(\"b.user\").alias(\"user2\"),\n",
        "            (col(\"a.norm_rating\") * col(\"b.norm_rating\")).alias(\"product\"),\n",
        "            col(\"a.norm_rating\").alias(\"r1\"),\n",
        "            col(\"b.norm_rating\").alias(\"r2\")\n",
        "        )\n",
        "\n",
        "        # Tính hệ số tương quan Pearson và chỉ chọn các cột cần thiết\n",
        "        similarity_df = pair_scores.groupBy(\"user1\", \"user2\").agg(\n",
        "            spark_sum(\"product\").alias(\"numerator\"),\n",
        "            sqrt(spark_sum(col(\"r1\")**2)).alias(\"denom1\"),\n",
        "            sqrt(spark_sum(col(\"r2\")**2)).alias(\"denom2\")\n",
        "        ).withColumn(\n",
        "            \"pearson\",\n",
        "            when(col(\"denom1\") * col(\"denom2\") > 0, col(\"numerator\") / (col(\"denom1\") * col(\"denom2\"))).otherwise(0.0)\n",
        "        ).filter(col(\"pearson\").isNotNull())\\\n",
        "         .select(\"user1\", \"user2\", \"pearson\")\n",
        "\n",
        "        # Tạo bản sao đối xứng để đảm bảo ma trận tương đồng đối xứng\n",
        "        similarity_mirror = similarity_df.select(\n",
        "            col(\"user2\").alias(\"user1\"),\n",
        "            col(\"user1\").alias(\"user2\"),\n",
        "            col(\"pearson\")\n",
        "        )\n",
        "\n",
        "        # Thêm tự tương quan (pearson = 1.0 cho cùng người dùng)\n",
        "        self_similarity = self.df.select(\"user\").distinct().withColumn(\n",
        "            \"user2\", col(\"user\")\n",
        "        ).withColumn(\"pearson\", lit(1.0))\n",
        "\n",
        "        # Kết hợp tất cả vào ma trận tương đồng\n",
        "        self.similarity_df = similarity_df.union(similarity_mirror).union(self_similarity)\n",
        "\n",
        "    def predict(self, test_df, num_recommendations):\n",
        "        # Lấy danh sách người dùng và item trong tập kiểm tra\n",
        "        test_users = test_df.select(\"user\").distinct()\n",
        "        test_items = test_df.select(\"item\").distinct().alias(\"test_items\")\n",
        "\n",
        "        # Tìm người dùng tương tự với pearson > ngưỡng\n",
        "        sim_df = test_users.join(\n",
        "            self.similarity_df,\n",
        "            test_users.user == self.similarity_df.user1,\n",
        "            \"inner\"\n",
        "        ).select(\n",
        "            col(\"user1\").alias(\"target_user\"),\n",
        "            col(\"user2\"),\n",
        "            col(\"pearson\")\n",
        "        )\n",
        "\n",
        "        # Lấy top-N người dùng tương tự\n",
        "        window_spec = Window.partitionBy(\"target_user\").orderBy(col(\"pearson\").desc())\n",
        "        topN_sim_df = sim_df.withColumn(\"rank\", row_number().over(window_spec))\\\n",
        "                            .filter((col(\"rank\") <= self.N) & (col(\"pearson\") > self.similarity_threshold))\\\n",
        "                            .drop(\"rank\").alias(\"topN_sim\")\n",
        "\n",
        "        # Ghép với đánh giá của người dùng tương tự, chỉ lấy item trong tập kiểm tra\n",
        "        sim_ratings = topN_sim_df.join(\n",
        "            self.df.alias(\"ratings\"),\n",
        "            col(\"ratings.user\") == col(\"topN_sim.user2\"),\n",
        "            \"inner\"\n",
        "        ).join(\n",
        "            test_items,\n",
        "            col(\"ratings.item\") == col(\"test_items.item\"),\n",
        "            \"inner\"\n",
        "        ).join(\n",
        "            self.user_avg.withColumnRenamed(\"user\", \"sim_user\").withColumnRenamed(\"avg_rating\", \"sim_user_avg\").alias(\"user_avg\"),\n",
        "            col(\"topN_sim.user2\") == col(\"user_avg.sim_user\"),\n",
        "            \"inner\"\n",
        "        ).select(\n",
        "            col(\"target_user\"),\n",
        "            col(\"ratings.item\").alias(\"item\"),  # Chọn rõ ràng item từ ratings\n",
        "            col(\"ratings.rating\").alias(\"rating\"),\n",
        "            col(\"pearson\"),\n",
        "            col(\"sim_user_avg\")\n",
        "        )\n",
        "\n",
        "        # Tính rating chuẩn hóa và dự đoán\n",
        "        norm_preds = sim_ratings.withColumn(\n",
        "            \"norm_rating\", col(\"rating\") - col(\"sim_user_avg\")\n",
        "        ).withColumn(\n",
        "            \"weighted\", col(\"norm_rating\") * col(\"pearson\")\n",
        "        ).groupBy(\"target_user\", \"item\").agg(\n",
        "            spark_sum(\"weighted\").alias(\"numerator\"),\n",
        "            spark_sum(spark_abs(col(\"pearson\"))).alias(\"denominator\")\n",
        "        ).filter(col(\"denominator\") > 0)\\\n",
        "         .withColumn(\"predicted_norm_rating\", col(\"numerator\") / col(\"denominator\"))\n",
        "\n",
        "        # Cộng lại trung bình của người dùng đích để khôi phục rating\n",
        "        preds = norm_preds.join(\n",
        "            self.user_avg.withColumnRenamed(\"user\", \"target_user\").alias(\"target_avg\"),\n",
        "            \"target_user\",\n",
        "            \"inner\"\n",
        "        ).withColumn(\n",
        "            \"predicted_rating\",\n",
        "            col(\"predicted_norm_rating\") + col(\"avg_rating\")\n",
        "        ).select(\n",
        "            col(\"target_user\").alias(\"user\"),\n",
        "            \"item\",\n",
        "            \"predicted_rating\"\n",
        "        )\n",
        "\n",
        "        # Lấy top-N item được dự đoán cao nhất cho mỗi người dùng\n",
        "        rank_spec = Window.partitionBy(\"user\").orderBy(col(\"predicted_rating\").desc())\n",
        "        topN_preds = preds.withColumn(\"rank\", row_number().over(rank_spec))\\\n",
        "                          .filter(col(\"rank\") <= num_recommendations)\\\n",
        "                          .drop(\"rank\")\n",
        "\n",
        "        return topN_preds\n"
      ],
      "metadata": {
        "id": "N6cSQvlE0Wyx"
      },
      "execution_count": null,
      "outputs": []
    },
    {
      "cell_type": "markdown",
      "source": [
        "### **Hàm `compute_rmse`: Đánh giá mô hình bằng RMSE**\n",
        "Tính sai số căn phương bình phương trung bình (Root Mean Squared Error – RMSE) giữa giá trị dự đoán và thực tế."
      ],
      "metadata": {
        "id": "xzV9__E3xBiR"
      }
    },
    {
      "cell_type": "code",
      "source": [
        "def compute_rmse(pred_df, test_df):\n",
        "    # Tính RMSE bằng cách so sánh dự đoán và giá trị thực tế\n",
        "    joined = pred_df.join(\n",
        "        test_df.select(\"user\", \"item\", \"rating\"),\n",
        "        on=[\"user\", \"item\"],\n",
        "        how=\"inner\"\n",
        "    ).withColumn(\n",
        "        \"squared_error\", spark_pow(col(\"predicted_rating\") - col(\"rating\"), 2)\n",
        "    )\n",
        "    rmse = joined.select(sqrt(avg(\"squared_error\")).alias(\"rmse\")).collect()[0][\"rmse\"]\n",
        "    print(f\"Số lượng dự đoán dùng để tính RMSE: {joined.count()}\")\n",
        "    return rmse"
      ],
      "metadata": {
        "id": "tis-XE-Vu4kL"
      },
      "execution_count": null,
      "outputs": []
    },
    {
      "cell_type": "markdown",
      "source": [
        "### **Khởi tạo SparkSession và đọc dữ liệu**\n",
        "\n",
        "SparkSession được tạo với tên ứng dụng là \"CollaborativeFiltering_Pearson\".\n",
        "\n",
        "Dữ liệu được đọc từ Google Drive với tùy chọn header=True để sử dụng dòng đầu làm tiêu đề, và inferSchema=True để tự động suy luận kiểu dữ liệu.\n",
        "\n",
        "Chỉ giữ lại 3 cột: user, item và rating để phục vụ cho bài toán Collaborative Filtering.\n"
      ],
      "metadata": {
        "id": "9y--Q3pDwih0"
      }
    },
    {
      "cell_type": "code",
      "source": [
        "# Khởi tạo SparkSession\n",
        "spark = SparkSession.builder.appName(\"CollaborativeFiltering\").getOrCreate()\n",
        "\n",
        "# Đọc dữ liệu từ ratings2k.csv\n",
        "data = spark.read.csv(\"/content/drive/MyDrive/ratings2k.csv\", header=True, inferSchema=True)\n"
      ],
      "metadata": {
        "id": "6QscahPwu2TN"
      },
      "execution_count": null,
      "outputs": []
    },
    {
      "cell_type": "code",
      "source": [
        "# Chia tập dữ liệu thành tập huấn luyện và kiểm tra\n",
        "train_df, test_df = data.randomSplit([0.8, 0.2], seed=42)\n",
        "print(f\"Kích thước tập huấn luyện: {train_df.count()}\")\n",
        "print(f\"Kích thước tập kiểm tra: {test_df.count()}\")\n",
        "\n",
        "# Đánh giá mô hình với N từ 2 đến 16\n",
        "rmse_results = []\n",
        "for N in range(2, 17):\n",
        "    print(f\"\\nĐánh giá với N = {N}\")\n",
        "    model = CollaborativeFiltering(train_df, N, similarity_threshold=0.5)\n",
        "    pred_df = model.predict(test_df, num_recommendations=5)\n",
        "    rmse = compute_rmse(pred_df, test_df)\n",
        "    print(f\"RMSE = {rmse:.4f}\")\n",
        "    rmse_results.append((N, rmse))\n",
        "\n",
        "best_N, best_rmse = min(rmse_results, key=lambda x: x[1])\n",
        "print(f\"\\nGiá trị N tối ưu là {best_N} với RMSE thấp nhất = {best_rmse:.4f}\")\n"
      ],
      "metadata": {
        "colab": {
          "base_uri": "https://localhost:8080/"
        },
        "id": "47lbEowxxRrg",
        "outputId": "50023aec-84d0-4dae-df13-ade79b772473"
      },
      "execution_count": null,
      "outputs": [
        {
          "output_type": "stream",
          "name": "stdout",
          "text": [
            "Kích thước tập huấn luyện: 1949\n",
            "Kích thước tập kiểm tra: 416\n",
            "\n",
            "Đánh giá với N = 2\n",
            "Số lượng dự đoán dùng để tính RMSE: 8\n",
            "RMSE = 0.9672\n",
            "\n",
            "Đánh giá với N = 3\n",
            "Số lượng dự đoán dùng để tính RMSE: 10\n",
            "RMSE = 1.0886\n",
            "\n",
            "Đánh giá với N = 4\n",
            "Số lượng dự đoán dùng để tính RMSE: 12\n",
            "RMSE = 1.0012\n",
            "\n",
            "Đánh giá với N = 5\n",
            "Số lượng dự đoán dùng để tính RMSE: 9\n",
            "RMSE = 0.7362\n",
            "\n",
            "Đánh giá với N = 6\n",
            "Số lượng dự đoán dùng để tính RMSE: 7\n",
            "RMSE = 1.3611\n",
            "\n",
            "Đánh giá với N = 7\n",
            "Số lượng dự đoán dùng để tính RMSE: 9\n",
            "RMSE = 1.3853\n",
            "\n",
            "Đánh giá với N = 8\n",
            "Số lượng dự đoán dùng để tính RMSE: 9\n",
            "RMSE = 1.4751\n",
            "\n",
            "Đánh giá với N = 9\n",
            "Số lượng dự đoán dùng để tính RMSE: 11\n",
            "RMSE = 1.4260\n",
            "\n",
            "Đánh giá với N = 10\n",
            "Số lượng dự đoán dùng để tính RMSE: 10\n",
            "RMSE = 1.8052\n",
            "\n",
            "Đánh giá với N = 11\n",
            "Số lượng dự đoán dùng để tính RMSE: 14\n",
            "RMSE = 1.6197\n",
            "\n",
            "Đánh giá với N = 12\n",
            "Số lượng dự đoán dùng để tính RMSE: 13\n",
            "RMSE = 1.5140\n",
            "\n",
            "Đánh giá với N = 13\n",
            "Số lượng dự đoán dùng để tính RMSE: 13\n",
            "RMSE = 1.4667\n",
            "\n",
            "Đánh giá với N = 14\n",
            "Số lượng dự đoán dùng để tính RMSE: 12\n",
            "RMSE = 1.5158\n",
            "\n",
            "Đánh giá với N = 15\n",
            "Số lượng dự đoán dùng để tính RMSE: 10\n",
            "RMSE = 1.6200\n",
            "\n",
            "Đánh giá với N = 16\n",
            "Số lượng dự đoán dùng để tính RMSE: 10\n",
            "RMSE = 1.6200\n",
            "\n",
            "Giá trị N tối ưu là 5 với RMSE thấp nhất = 0.7362\n"
          ]
        }
      ]
    },
    {
      "cell_type": "markdown",
      "source": [
        "### **DEMO PREDICTION FOR SPECIFIC USERS**"
      ],
      "metadata": {
        "id": "pQ0ZKwomxZkP"
      }
    },
    {
      "cell_type": "code",
      "source": [
        "# Lấy danh sách người dùng từ test_df thay vì cố định 1, 2, 3\n",
        "test_users = [row[\"user\"] for row in test_df.select(\"user\").distinct().limit(3).collect()]\n",
        "print(f\"Người dùng được chọn từ test_df: {test_users}\")\n",
        "\n",
        "# Lấy top-N là giá trị có RMSE thấp nhất\n",
        "best_N = min(rmse_results, key=lambda x: x[1])[0]\n",
        "print(\"\\n--- DEMO DỰ ĐOÁN CHO NGƯỜI DÙNG CỤ THỂ ---\\n\")\n",
        "\n",
        "model = CollaborativeFiltering(train_df, best_N, similarity_threshold=0.3)  # Giảm ngưỡng\n",
        "pred_df = model.predict(test_df, num_recommendations=10)  # Dự đoán nhiều hơn để loại bỏ trùng\n",
        "\n",
        "# Lặp qua các người dùng từ test_df\n",
        "for user_id in test_users:\n",
        "    print(f\"Gợi ý cho người dùng {user_id}:\")\n",
        "\n",
        "    # Lấy các đánh giá thực tế của người dùng từ tập kiểm tra, fallback sang train_df\n",
        "    user_ratings = test_df.filter(col(\"user\") == user_id)\n",
        "    if user_ratings.count() == 0:\n",
        "        user_ratings = train_df.filter(col(\"user\") == user_id)\n",
        "        print(\"Không tìm thấy đánh giá trong tập kiểm tra, sử dụng đánh giá từ tập huấn luyện.\")\n",
        "    num_rated = user_ratings.count()\n",
        "    print(f\"Người dùng đã đánh giá {num_rated} item\")\n",
        "\n",
        "    if num_rated > 0:\n",
        "        print(\"Mẫu đánh giá của người dùng:\")\n",
        "        user_ratings.select(\"item\", \"rating\").show(3, truncate=False)\n",
        "    else:\n",
        "        print(\"Không tìm thấy đánh giá nào.\")\n",
        "\n",
        "    # Lấy danh sách item đã đánh giá để loại khỏi gợi ý\n",
        "    rated_items = [row[\"item\"] for row in user_ratings.select(\"item\").collect()]\n",
        "\n",
        "    # Gợi ý các item chưa đánh giá (đã loại trừ) và in top 5\n",
        "    recs = pred_df.filter(\n",
        "        (col(\"user\") == user_id) & (~col(\"item\").isin(rated_items))\n",
        "    ).orderBy(col(\"predicted_rating\").desc())\n",
        "\n",
        "    if recs.count() == 0:\n",
        "        print(\"Không có gợi ý nào cho người dùng này do thiếu dữ liệu hoặc không có người dùng tương tự.\")\n",
        "    else:\n",
        "        print(\"\\nTop 5 item được gợi ý:\")\n",
        "        recs.select(\"item\", \"predicted_rating\").show(5, truncate=False)\n",
        "\n",
        "    print(\"-\" * 40)\n",
        "\n",
        "# Dừng SparkSession\n",
        "spark.stop()"
      ],
      "metadata": {
        "colab": {
          "base_uri": "https://localhost:8080/"
        },
        "id": "F9NtIGgKvM3j",
        "outputId": "e1d60e95-4d88-4557-a4ae-8b87b133451c"
      },
      "execution_count": null,
      "outputs": [
        {
          "output_type": "stream",
          "name": "stdout",
          "text": [
            "Người dùng được chọn từ test_df: [31, 65, 53]\n",
            "\n",
            "--- DEMO DỰ ĐOÁN CHO NGƯỜI DÙNG CỤ THỂ ---\n",
            "\n",
            "Gợi ý cho người dùng 31:\n",
            "Người dùng đã đánh giá 16 item\n",
            "Mẫu đánh giá của người dùng:\n",
            "+----+------+\n",
            "|item|rating|\n",
            "+----+------+\n",
            "|216 |2.5   |\n",
            "|26  |3.5   |\n",
            "|379 |2.5   |\n",
            "+----+------+\n",
            "only showing top 3 rows\n",
            "\n",
            "\n",
            "Top 5 item được gợi ý:\n",
            "+----+----------------+\n",
            "|item|predicted_rating|\n",
            "+----+----------------+\n",
            "|422 |4.0             |\n",
            "|462 |3.5             |\n",
            "|8   |3.5             |\n",
            "|258 |3.5             |\n",
            "|77  |3.5             |\n",
            "+----+----------------+\n",
            "only showing top 5 rows\n",
            "\n",
            "----------------------------------------\n",
            "Gợi ý cho người dùng 65:\n",
            "Người dùng đã đánh giá 1 item\n",
            "Mẫu đánh giá của người dùng:\n",
            "+----+------+\n",
            "|item|rating|\n",
            "+----+------+\n",
            "|176 |1.0   |\n",
            "+----+------+\n",
            "\n",
            "Không có gợi ý nào cho người dùng này do thiếu dữ liệu hoặc không có người dùng tương tự.\n",
            "----------------------------------------\n",
            "Gợi ý cho người dùng 53:\n",
            "Người dùng đã đánh giá 1 item\n",
            "Mẫu đánh giá của người dùng:\n",
            "+----+------+\n",
            "|item|rating|\n",
            "+----+------+\n",
            "|333 |4.5   |\n",
            "+----+------+\n",
            "\n",
            "\n",
            "Top 5 item được gợi ý:\n",
            "+----+-----------------+\n",
            "|item|predicted_rating |\n",
            "+----+-----------------+\n",
            "|386 |5.589285714285714|\n",
            "|321 |5.589285714285714|\n",
            "|438 |5.585526315789474|\n",
            "|248 |5.585526315789474|\n",
            "|28  |5.515845070422535|\n",
            "+----+-----------------+\n",
            "only showing top 5 rows\n",
            "\n",
            "----------------------------------------\n"
          ]
        }
      ]
    },
    {
      "cell_type": "markdown",
      "source": [
        "### **Trực quan hóa mối quan hệ giữa số hàng xóm (N) và sai số RMSE**"
      ],
      "metadata": {
        "id": "A0-_MeBAxKW5"
      }
    },
    {
      "cell_type": "code",
      "source": [
        "# Dữ liệu từ kết quả RMSE\n",
        "ns, rmses = zip(*rmse_results)\n",
        "\n",
        "plt.figure(figsize=(12, 6))\n",
        "\n",
        "plt.bar(ns, rmses, color=\"skyblue\", width=0.6, edgecolor='darkblue')\n",
        "\n",
        "# Thiết lập nhãn cho các trục\n",
        "plt.xlabel(\"Số người dùng tương tự (N)\", fontsize=14, fontweight='bold')\n",
        "plt.ylabel(\"RMSE\", fontsize=14, fontweight='bold')\n",
        "\n",
        "# Thiết lập tiêu đề\n",
        "plt.title(\"RMSE theo số lượng người dùng tương tự\", fontsize=16, fontweight='bold')\n",
        "\n",
        "# Điều chỉnh nhãn trục x và đường lưới\n",
        "plt.xticks(ns, fontsize=12, rotation=45)\n",
        "plt.grid(axis=\"y\", linestyle='--', alpha=0.7)\n",
        "\n",
        "# Hiển thị biểu đồ\n",
        "plt.tight_layout()\n",
        "plt.show()\n"
      ],
      "metadata": {
        "colab": {
          "base_uri": "https://localhost:8080/",
          "height": 533
        },
        "id": "HrCNWHLQuLHl",
        "outputId": "68811106-f7da-4b46-c26f-7debf7aac733"
      },
      "execution_count": null,
      "outputs": [
        {
          "output_type": "display_data",
          "data": {
            "text/plain": [
              "<Figure size 1200x600 with 1 Axes>"
            ],
            "image/png": "[encoded data removed]"
          },
          "metadata": {}
        }
      ]
    }
  ]
}