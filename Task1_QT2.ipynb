{
  "cells": [
    {
      "cell_type": "markdown",
      "source": [
        "# **Collaborative Filtering**"
      ],
      "metadata": {
        "id": "aYhhpApH742e"
      }
    },
    {
      "cell_type": "markdown",
      "source": [
        "# **Dataset Description: `ratings2k.csv`**\n",
        "**This dataset contains product rating information, with 2365 data samples and the following columns:**\n",
        "\n",
        "| Column Name | Description             | Data Type | Example     |\n",
        "|-------------|--------------------------|-----------|-------------|\n",
        "| `index`     | Row index                | Integer   | 0, 1, 2...   |\n",
        "| `user`      | User ID                  | String    | 73, 36, 72...  |\n",
        "| `item`      | Product ID               | String    | 52, 239, 26...  |\n",
        "| `rating`    | Rating (from 0.0 to 5.0) | Float     | 4, 3, 1...    |\n"
      ],
      "metadata": {
        "id": "2oTdkUlx8MqQ"
      }
    },
    {
      "cell_type": "code",
      "execution_count": null,
      "metadata": {
        "colab": {
          "base_uri": "https://localhost:8080/"
        },
        "id": "Cr_PRaWH2tEX",
        "outputId": "462b2f0d-36ca-4853-9c20-35f4760232f0"
      },
      "outputs": [
        {
          "output_type": "stream",
          "name": "stdout",
          "text": [
            "Requirement already satisfied: pyspark in /usr/local/lib/python3.11/dist-packages (3.5.1)\n",
            "Requirement already satisfied: py4j==0.10.9.7 in /usr/local/lib/python3.11/dist-packages (from pyspark) (0.10.9.7)\n"
          ]
        }
      ],
      "source": [
        "!pip install pyspark"
      ]
    },
    {
      "cell_type": "code",
      "execution_count": null,
      "metadata": {
        "colab": {
          "base_uri": "https://localhost:8080/"
        },
        "id": "kvpPf4qB2TeB",
        "outputId": "d7d6519f-f7fb-475d-d78e-fce0a914e913"
      },
      "outputs": [
        {
          "output_type": "stream",
          "name": "stdout",
          "text": [
            "Mounted at /content/drive\n"
          ]
        }
      ],
      "source": [
        "from google.colab import drive\n",
        "drive.mount('/content/drive')\n"
      ]
    },
    {
      "cell_type": "code",
      "execution_count": null,
      "metadata": {
        "id": "7HzFhfVP2sf6"
      },
      "outputs": [],
      "source": [
        "from pyspark.sql import SparkSession\n",
        "from pyspark.sql.functions import col\n",
        "from pyspark.sql.functions import countDistinct\n",
        "from pyspark.sql.functions import avg, sqrt, sum as spark_sum, desc\n",
        "from pyspark.sql.window import Window\n",
        "from pyspark.sql.functions import row_number\n",
        "from pyspark.sql.functions import pow as spark_pow, sqrt, avg\n",
        "from pyspark.sql.functions import abs as spark_abs\n",
        "import matplotlib.pyplot as plt\n",
        "import seaborn as sns"
      ]
    },
    {
      "cell_type": "markdown",
      "source": [
        "## **Algorithms**\n",
        "Implement the Collaborative Filtering algorithm to recommend items for individual\n",
        "\n",
        "users using PySpark. It should be a class for future deployment.\n",
        "The similarity between users is measured using the Pearson correlation coefficient.\n",
        "\n",
        "The constructor takes in the value of N (number of similar users) and the data set as a data frame (PySpark).\n",
        "\n",
        "The function predict() takes in a user (a vector of ratings) and the expected number of recommended items. It returns a data frame (PySpark) consisting of recommended items sorted in the descending order of scores."
      ],
      "metadata": {
        "id": "5n-ZMcmx877E"
      }
    },
    {
      "cell_type": "markdown",
      "source": [
        "## **Experiments**\n",
        "Load the given dataset to construct the utility matrix and then infer “profile” vectors for users and items.\n",
        "\n",
        "Divide the dataset into a training and test sets with the ratio of 8 : 2.\n",
        "\n",
        "Evaluate the algorithm in the test set with N in the range [2, 16]. After that, draw a bar chart to illustrate the RMSE values for each N."
      ],
      "metadata": {
        "id": "UANu5fcv9QRc"
      }
    },
    {
      "cell_type": "markdown",
      "source": [
        "### **Khởi tạo SparkSession và đọc dữ liệu**\n"
      ],
      "metadata": {
        "id": "i2LiLaTx9oIA"
      }
    },
    {
      "cell_type": "markdown",
      "source": [
        "SparkSession được tạo với tên ứng dụng là \"CollaborativeFiltering_Pearson\".\n",
        "\n",
        "Dữ liệu được đọc từ Google Drive với tùy chọn header=True để sử dụng dòng đầu làm tiêu đề, và inferSchema=True để tự động suy luận kiểu dữ liệu.\n",
        "\n",
        "Chỉ giữ lại 3 cột: user, item và rating để phục vụ cho bài toán Collaborative Filtering."
      ],
      "metadata": {
        "id": "n_4X_6zd9-A3"
      }
    },
    {
      "cell_type": "code",
      "execution_count": null,
      "metadata": {
        "id": "HIcuOO0N2rfl"
      },
      "outputs": [],
      "source": [
        "# Khởi tạo Spark session\n",
        "spark = SparkSession.builder \\\n",
        "    .appName(\"CollaborativeFiltering_Pearson\") \\\n",
        "    .getOrCreate()\n",
        "\n",
        "# Đọc dữ liệu\n",
        "df = spark.read.csv(\"/content/drive/MyDrive/ratings2k.csv\", header=True, inferSchema=True)\n",
        "\n",
        "# Chọn các cột quan trọng\n",
        "df = df.select(\"user\", \"item\", \"rating\")\n"
      ]
    },
    {
      "cell_type": "markdown",
      "source": [
        "### **Phân tích dữ liệu người dùng và lọc người dùng không khách quan**"
      ],
      "metadata": {
        "id": "XBWrPX0w-IGs"
      }
    },
    {
      "cell_type": "markdown",
      "source": [
        "Người dùng không khách quan được xác định là:\n",
        "\n",
        "* Chỉ sử dụng một mức đánh giá (thiếu khách quan).\n",
        "\n",
        "* Hoặc đánh giá quá ít (≤ 2 sản phẩm).\n",
        "\n",
        "Phân tích này giúp làm sạch dữ liệu trước khi áp dụng các thuật toán để tránh bias trong mô hình."
      ],
      "metadata": {
        "id": "JA_uH9Oy-KDs"
      }
    },
    {
      "cell_type": "code",
      "source": [
        "# Tổng số dòng\n",
        "total_rows = df.count()\n",
        "\n",
        "# Tổng số người dùng\n",
        "total_users = df.select(\"user\").distinct().count()\n",
        "\n",
        "# \"Người dùng không khách quan\" là người đánh giá quá ít hoặc chỉ toàn 1 giá trị\n",
        "# Đếm số người dùng với < 3 lượt đánh giá hoặc có rating không đa dạng\n",
        "\n",
        "# user_behavior = df.groupBy(\"user\").agg(\n",
        "#     countDistinct(\"rating\").alias(\"distinct_ratings\"),\n",
        "#     countDistinct(\"item\").alias(\"num_rated_items\"),\n",
        "\n",
        "# )\n",
        "\n",
        "# biased_users = user_behavior.filter(\n",
        "#     (col(\"distinct_ratings\") == 1) | (col(\"num_rated_items\") <= 2)\n",
        "# )\n",
        "\n",
        "# num_biased_users = biased_users.count()\n",
        "# biased_percent = (num_biased_users / total_users) * 100\n",
        "\n",
        "# In kết quả\n",
        "print(f\"Tổng số dòng dữ liệu: {total_rows}\")\n",
        "print(f\"Tổng số người dùng: {total_users}\")\n",
        "# print(f\"Số người dùng đánh giá không khách quan: {num_biased_users}\")\n",
        "# print(f\"Tỉ lệ phần trăm: {biased_percent:.2f}%\")\n",
        "\n"
      ],
      "metadata": {
        "id": "3Xtq7RDB37N5",
        "colab": {
          "base_uri": "https://localhost:8080/"
        },
        "outputId": "3384020d-219c-4988-dddd-541aa36e709e"
      },
      "execution_count": null,
      "outputs": [
        {
          "output_type": "stream",
          "name": "stdout",
          "text": [
            "Tổng số dòng dữ liệu: 2365\n",
            "Tổng số người dùng: 74\n"
          ]
        }
      ]
    },
    {
      "cell_type": "markdown",
      "source": [
        "### **Lớp `CollaborativeFiltering`: Dự đoán đánh giá bằng lọc cộng tác dựa trên Pearson**"
      ],
      "metadata": {
        "id": "iXbh9cz5-10j"
      }
    },
    {
      "cell_type": "markdown",
      "source": [
        "Chuẩn hóa đánh giá để tính Pearson giữa người dùng.\n",
        "\n",
        "Chọn Top-N người dùng tương tự nhất cho mỗi người dùng cần dự đoán.\n",
        "\n",
        "Dự đoán đánh giá dựa trên đánh giá của hàng xóm có trọng số theo độ tương quan."
      ],
      "metadata": {
        "id": "bvWtqAse-4aM"
      }
    },
    {
      "cell_type": "code",
      "execution_count": null,
      "metadata": {
        "id": "ECbSwpez3G_B"
      },
      "outputs": [],
      "source": [
        "class CollaborativeFiltering:\n",
        "    def __init__(self, df, N, similarity_threshold):\n",
        "        self.df = df # Dữ liệu đánh giá đầu vào\n",
        "        self.N = N  # Số lượng hàng xóm tương tự hàng đầu\n",
        "        self._prepare()  # Chuẩn bị dữ liệu và tính toán hệ số tương quan\n",
        "        self.similarity_threshold = similarity_threshold  # Ngưỡng tương quan Pearson tối thiểu\n",
        "\n",
        "\n",
        "    def _prepare(self):\n",
        "        # Tính trung bình mỗi user\n",
        "        user_avg = self.df.groupBy(\"user\").agg(avg(\"rating\").alias(\"avg_rating\"))\n",
        "\n",
        "        # Chuẩn hóa rating bằng cách trừ trung bình\n",
        "        normalized = self.df.join(user_avg, \"user\")\n",
        "        normalized = normalized.withColumn(\"norm_rating\", col(\"rating\") - col(\"avg_rating\"))\n",
        "\n",
        "        # Tạo cặp user-user có cùng item\n",
        "        pair_ratings = normalized.alias(\"a\").join(\n",
        "            normalized.alias(\"b\"),\n",
        "            (col(\"a.item\") == col(\"b.item\")) & (col(\"a.user\") < col(\"b.user\"))\n",
        "        )\n",
        "\n",
        "        # Tính các thành phần của công thức Pearson\n",
        "        pair_scores = pair_ratings.select(\n",
        "            col(\"a.user\").alias(\"user1\"),\n",
        "            col(\"b.user\").alias(\"user2\"),\n",
        "            (col(\"a.norm_rating\") * col(\"b.norm_rating\")).alias(\"product\"),\n",
        "            col(\"a.norm_rating\").alias(\"r1\"),\n",
        "            col(\"b.norm_rating\").alias(\"r2\")\n",
        "        )\n",
        "\n",
        "        # Tính hệ số Pearson giữa các cặp người dùng\n",
        "        self.similarity_df = pair_scores.groupBy(\"user1\", \"user2\").agg(\n",
        "            spark_sum(\"product\").alias(\"numerator\"),\n",
        "            sqrt(spark_sum(col(\"r1\")**2)).alias(\"denom1\"),\n",
        "            sqrt(spark_sum(col(\"r2\")**2)).alias(\"denom2\")\n",
        "        ).withColumn(\n",
        "            \"pearson\", col(\"numerator\") / (col(\"denom1\") * col(\"denom2\"))\n",
        "        ).filter(col(\"pearson\").isNotNull())\n",
        "\n",
        "    def predict_all(self, test_df, num_recommendations):\n",
        "        # Tính trung bình rating của từng user\n",
        "        user_avg = self.df.groupBy(\"user\").agg(avg(\"rating\").alias(\"avg_rating\"))\n",
        "\n",
        "        # Lấy danh sách người dùng trong test set\n",
        "        test_users = test_df.select(\"user\").distinct()\n",
        "\n",
        "        # Tìm các user tương tự (pearson > threshold)\n",
        "        sim_df = test_users.join(\n",
        "            self.similarity_df,\n",
        "            test_users.user == self.similarity_df.user1,\n",
        "            how=\"inner\"\n",
        "        ).select(\n",
        "            col(\"user1\").alias(\"target_user\"),\n",
        "            \"user2\",\n",
        "            \"pearson\"\n",
        "        )\n",
        "\n",
        "        # Lấy top-N người dùng tương tự\n",
        "        window_spec = Window.partitionBy(\"target_user\").orderBy(col(\"pearson\").desc())\n",
        "        topN_sim_df = sim_df.withColumn(\"rank\", row_number().over(window_spec))\\\n",
        "                            .filter((col(\"rank\") <= self.N) & (col(\"pearson\") > self.similarity_threshold))\\\n",
        "                            .drop(\"rank\")\n",
        "\n",
        "        # Ghép với bảng đánh giá của người tương tự\n",
        "        sim_ratings = topN_sim_df.join(\n",
        "            self.df,\n",
        "            self.df.user == topN_sim_df.user2,\n",
        "            how=\"inner\"\n",
        "        ).join(\n",
        "            user_avg.withColumnRenamed(\"user\", \"sim_user\"),\n",
        "            col(\"sim_user\") == col(\"user2\"),\n",
        "            how=\"inner\"\n",
        "        ).select(\n",
        "            \"target_user\", \"item\", \"rating\", \"pearson\", col(\"avg_rating\").alias(\"sim_user_avg\")\n",
        "        )\n",
        "\n",
        "        # Tính rating chuẩn hóa và dự đoán\n",
        "        norm_preds = sim_ratings.withColumn(\"norm_rating\", col(\"rating\") - col(\"sim_user_avg\"))\\\n",
        "            .withColumn(\"weighted\", col(\"norm_rating\") * col(\"pearson\"))\\\n",
        "            .groupBy(\"target_user\", \"item\")\\\n",
        "            .agg(\n",
        "                spark_sum(\"weighted\").alias(\"numerator\"),\n",
        "                spark_sum(spark_abs(col(\"pearson\"))).alias(\"denominator\")\n",
        "            ).filter(col(\"denominator\") != 0)\\\n",
        "            .withColumn(\"predicted_norm_rating\", col(\"numerator\") / col(\"denominator\"))\n",
        "\n",
        "        # Cộng lại trung bình người dùng cần dự đoán để khôi phục rating\n",
        "        preds = norm_preds.join(\n",
        "            user_avg.withColumnRenamed(\"user\", \"target_user\"),\n",
        "            on=\"target_user\",\n",
        "            how=\"inner\"\n",
        "        ).withColumn(\n",
        "            \"predicted_rating\",\n",
        "            col(\"predicted_norm_rating\") + col(\"avg_rating\")\n",
        "        ).select(\n",
        "            col(\"target_user\").alias(\"user\"),\n",
        "            \"item\",\n",
        "            \"predicted_rating\"\n",
        "        )\n",
        "\n",
        "        # Lấy top-N sản phẩm được dự đoán cao nhất cho mỗi user\n",
        "        rank_spec = Window.partitionBy(\"user\").orderBy(col(\"predicted_rating\").desc())\n",
        "\n",
        "        topN_preds = preds.withColumn(\"rank\", row_number().over(rank_spec))\\\n",
        "                          .filter(col(\"rank\") <= num_recommendations)\\\n",
        "                          .drop(\"rank\")\n",
        "\n",
        "        return topN_preds\n",
        "\n",
        "    # def predict_all(self, test_df):\n",
        "    #     # Danh sách người dùng cần dự đoán\n",
        "    #     test_users = test_df.select(\"user\").distinct()\n",
        "\n",
        "    #     # Ghép với bảng tương tự để tìm các người dùng tương tự\n",
        "    #     sim_df = test_users.join(\n",
        "    #         self.similarity_df,\n",
        "    #         test_users.user == self.similarity_df.user1,\n",
        "    #         how=\"inner\"\n",
        "    #     ).select(\n",
        "    #         col(\"user1\").alias(\"target_user\"),\n",
        "    #         \"user2\",\n",
        "    #         \"pearson\"\n",
        "    #     )\n",
        "\n",
        "    #     # Lấy top-N người dùng tương tự nhất (Pearson > self.similarity_threshold)\n",
        "    #     window_spec = Window.partitionBy(\"target_user\").orderBy(col(\"pearson\").desc())\n",
        "    #     topN_sim_df = sim_df.withColumn(\"rank\", row_number().over(window_spec))\\\n",
        "    #                         .filter((col(\"rank\") <= self.N) & (col(\"pearson\") > self.similarity_threshold))\\\n",
        "    #                         .drop(\"rank\")\n",
        "\n",
        "    #     # Ghép với bảng đánh giá gốc để lấy đánh giá của hàng xóm\n",
        "    #     sim_ratings = topN_sim_df.join(\n",
        "    #         self.df,\n",
        "    #         self.df.user == topN_sim_df.user2,\n",
        "    #         how=\"inner\"\n",
        "    #     ).select(\n",
        "    #         \"target_user\", \"item\", \"rating\", \"pearson\"\n",
        "    #     )\n",
        "\n",
        "    #     # Tính toán rating dự đoán theo công thức trung bình có trọng số\n",
        "    #     preds = sim_ratings.withColumn(\"weighted\", col(\"rating\") * col(\"pearson\"))\\\n",
        "    #         .groupBy(\"target_user\", \"item\")\\\n",
        "    #         .agg(\n",
        "    #             spark_sum(\"weighted\").alias(\"numerator\"),\n",
        "    #             spark_sum(\"pearson\").alias(\"denominator\")\n",
        "    #         ).filter(col(\"denominator\") != 0)\\\n",
        "    #         .withColumn(\"predicted_rating\", col(\"numerator\") / col(\"denominator\"))\\\n",
        "    #         .select(\n",
        "    #             col(\"target_user\").alias(\"user\"),\n",
        "    #             \"item\",\n",
        "    #             \"predicted_rating\"\n",
        "    #         )\n",
        "\n",
        "    #     return preds"
      ]
    },
    {
      "cell_type": "markdown",
      "source": [
        "### **Hàm `compute_rmse`: Đánh giá mô hình bằng RMSE**\n"
      ],
      "metadata": {
        "id": "R683fGGl_5kq"
      }
    },
    {
      "cell_type": "markdown",
      "source": [
        "Tính sai số căn phương bình phương trung bình (Root Mean Squared Error – RMSE) giữa giá trị dự đoán và thực tế."
      ],
      "metadata": {
        "id": "p5e4NB5xAEhw"
      }
    },
    {
      "cell_type": "code",
      "execution_count": null,
      "metadata": {
        "id": "rp_fEM153JJx"
      },
      "outputs": [],
      "source": [
        "def compute_rmse(pred_df, test_df):\n",
        "    joined = pred_df.join(\n",
        "        test_df.select(\"user\", \"item\", \"rating\"),\n",
        "        on=[\"user\", \"item\"],\n",
        "        how=\"inner\"\n",
        "    ).withColumn(\n",
        "        \"squared_error\", spark_pow(col(\"predicted_rating\") - col(\"rating\"), 2)\n",
        "    )\n",
        "\n",
        "    rmse = joined.select(sqrt(avg(\"squared_error\")).alias(\"rmse\")).collect()[0][\"rmse\"]\n",
        "    return rmse\n"
      ]
    },
    {
      "cell_type": "markdown",
      "source": [
        "### **Đánh giá mô hình Collaborative Filtering với các giá trị Top-N**"
      ],
      "metadata": {
        "id": "bi1BdM_cAS01"
      }
    },
    {
      "cell_type": "code",
      "execution_count": null,
      "metadata": {
        "id": "i_bdAxn-3NnH",
        "colab": {
          "base_uri": "https://localhost:8080/"
        },
        "outputId": "aca8d7d2-5e39-4ccf-d94c-a36edcb23b87"
      },
      "outputs": [
        {
          "output_type": "stream",
          "name": "stdout",
          "text": [
            "Training set size: 1949\n",
            "Test set size: 416\n",
            "N = 2\n",
            "RMSE = 1.1164\n",
            "N = 3\n",
            "RMSE = 1.0520\n",
            "N = 4\n",
            "RMSE = 0.9403\n",
            "N = 5\n",
            "RMSE = 1.5054\n",
            "N = 6\n",
            "RMSE = 1.6055\n",
            "N = 7\n",
            "RMSE = 1.7962\n",
            "N = 8\n",
            "RMSE = 1.4995\n",
            "N = 9\n",
            "RMSE = 1.4995\n",
            "N = 10\n",
            "RMSE = 1.6245\n",
            "N = 11\n",
            "RMSE = 1.4976\n",
            "N = 12\n",
            "RMSE = 1.4976\n",
            "N = 13\n",
            "RMSE = 1.6245\n",
            "N = 14\n",
            "RMSE = 1.6245\n",
            "N = 15\n",
            "RMSE = 1.7513\n",
            "N = 16\n",
            "RMSE = 1.7513\n"
          ]
        }
      ],
      "source": [
        "# Chia tập train/test\n",
        "train_df, test_df = df.randomSplit([0.8, 0.2], seed=42)\n",
        "print(f\"Training set size: {train_df.count()}\")\n",
        "print(f\"Test set size: {test_df.count()}\")\n",
        "\n",
        "rmse_results = []\n",
        "\n",
        "# Lặp qua các giá trị N từ 2 đến 16 để tìm số hàng xóm tối ưu\n",
        "for N in range(2, 17):\n",
        "    print(f\"N = {N}\")\n",
        "    model = CollaborativeFiltering(train_df, N, 0.5) # Khởi tạo mô hình\n",
        "    pred_df = model.predict_all(test_df, num_recommendations=5)\n",
        "    rmse = compute_rmse(pred_df, test_df) # Tính RMSE\n",
        "    print(f\"RMSE = {rmse:.4f}\")\n",
        "    rmse_results.append((N, rmse))\n"
      ]
    },
    {
      "cell_type": "code",
      "source": [
        "best_N, best_rmse = min(rmse_results, key=lambda x: x[1])\n",
        "print(f\"\\nGiá trị N tối ưu là {best_N} với RMSE thấp nhất = {best_rmse:.4f}\")"
      ],
      "metadata": {
        "id": "M7To-3mpck1k",
        "colab": {
          "base_uri": "https://localhost:8080/"
        },
        "outputId": "68ce5ead-b70b-4f7a-d86b-22a65cdabe27"
      },
      "execution_count": null,
      "outputs": [
        {
          "output_type": "stream",
          "name": "stdout",
          "text": [
            "\n",
            "Giá trị N tối ưu là 4 với RMSE thấp nhất = 0.9403\n"
          ]
        }
      ]
    },
    {
      "cell_type": "code",
      "source": [
        "# --- DEMO PREDICTION FOR SPECIFIC USERS (PySpark only) ---\n",
        "\n",
        "# Lấy top-N là giá trị có RMSE thấp nhất\n",
        "best_N = min(rmse_results, key=lambda x: x[1])[0]\n",
        "print(\"\\n--- DEMO PREDICTION FOR SPECIFIC USERS ---\\n\")\n",
        "\n",
        "model = CollaborativeFiltering(train_df, best_N, 0.5)\n",
        "pred_df = model.predict_all(test_df, num_recommendations=10)  # Dự đoán nhiều hơn để loại bỏ trùng\n",
        "\n",
        "# Lặp qua một số user cụ thể\n",
        "for user_id in [1, 2, 3]:\n",
        "    print(f\"Recommendations for User {user_id}:\")\n",
        "\n",
        "    # Lấy các đánh giá thực tế của user từ test set\n",
        "    user_ratings = test_df.filter(col(\"user\") == user_id)\n",
        "    num_rated = user_ratings.count()\n",
        "    print(f\"User has already rated {num_rated} items\")\n",
        "\n",
        "    if num_rated > 0:\n",
        "        print(\"Sample of user's ratings:\")\n",
        "        user_ratings.select(\"item\", \"rating\").show(3, truncate=False)\n",
        "    else:\n",
        "        print(\"No ratings found in test set.\")\n",
        "\n",
        "    # Lấy danh sách item đã đánh giá để loại khỏi gợi ý\n",
        "    rated_items = [row[\"item\"] for row in user_ratings.select(\"item\").collect()]\n",
        "\n",
        "    # Gợi ý các item chưa đánh giá (đã loại trừ) và in top 5\n",
        "    recs = pred_df.filter(\n",
        "        (col(\"user\") == user_id) & (~col(\"item\").isin(rated_items))\n",
        "    ).orderBy(col(\"predicted_rating\").desc())\n",
        "\n",
        "    print(\"\\nTop 5 recommended items:\")\n",
        "    recs.select(\"item\", \"predicted_rating\").show(5, truncate=False)\n",
        "\n",
        "    print(\"-\" * 40)\n"
      ],
      "metadata": {
        "id": "LusX1X5-cr0K",
        "colab": {
          "base_uri": "https://localhost:8080/"
        },
        "outputId": "76457d52-9963-4b12-c23e-6b593422418f"
      },
      "execution_count": null,
      "outputs": [
        {
          "output_type": "stream",
          "name": "stdout",
          "text": [
            "\n",
            "--- DEMO PREDICTION FOR SPECIFIC USERS ---\n",
            "\n",
            "Recommendations for User 1:\n",
            "User has already rated 1 items\n",
            "Sample of user's ratings:\n",
            "+----+------+\n",
            "|item|rating|\n",
            "+----+------+\n",
            "|168 |5.0   |\n",
            "+----+------+\n",
            "\n",
            "\n",
            "Top 5 recommended items:\n",
            "+----+-----------------+\n",
            "|item|predicted_rating |\n",
            "+----+-----------------+\n",
            "|199 |5.654761904761905|\n",
            "|176 |5.654761904761905|\n",
            "|301 |5.248809523809523|\n",
            "|322 |5.154761904761905|\n",
            "|36  |5.072883597883598|\n",
            "+----+-----------------+\n",
            "only showing top 5 rows\n",
            "\n",
            "----------------------------------------\n",
            "Recommendations for User 2:\n",
            "User has already rated 6 items\n",
            "Sample of user's ratings:\n",
            "+----+------+\n",
            "|item|rating|\n",
            "+----+------+\n",
            "|42  |0.5   |\n",
            "|81  |4.0   |\n",
            "|148 |1.0   |\n",
            "+----+------+\n",
            "only showing top 3 rows\n",
            "\n",
            "\n",
            "Top 5 recommended items:\n",
            "+----+-----------------+\n",
            "|item|predicted_rating |\n",
            "+----+-----------------+\n",
            "|386 |4.745995423340961|\n",
            "|373 |4.745995423340961|\n",
            "|128 |4.745995423340961|\n",
            "|119 |4.745995423340961|\n",
            "|89  |4.745995423340961|\n",
            "+----+-----------------+\n",
            "only showing top 5 rows\n",
            "\n",
            "----------------------------------------\n",
            "Recommendations for User 3:\n",
            "User has already rated 7 items\n",
            "Sample of user's ratings:\n",
            "+----+------+\n",
            "|item|rating|\n",
            "+----+------+\n",
            "|22  |4.5   |\n",
            "|176 |4.0   |\n",
            "|199 |4.0   |\n",
            "+----+------+\n",
            "only showing top 3 rows\n",
            "\n",
            "\n",
            "Top 5 recommended items:\n",
            "+----+-----------------+\n",
            "|item|predicted_rating |\n",
            "+----+-----------------+\n",
            "|326 |5.052272727272728|\n",
            "|323 |5.052272727272728|\n",
            "|320 |5.052272727272728|\n",
            "|319 |5.052272727272728|\n",
            "|318 |5.052272727272728|\n",
            "+----+-----------------+\n",
            "only showing top 5 rows\n",
            "\n",
            "----------------------------------------\n"
          ]
        }
      ]
    },
    {
      "cell_type": "markdown",
      "source": [
        "### **Trực quan hóa mối quan hệ giữa số hàng xóm (N) và sai số RMSE**"
      ],
      "metadata": {
        "id": "NlJXp24UH_Bz"
      }
    },
    {
      "cell_type": "code",
      "execution_count": null,
      "metadata": {
        "id": "tB98o2UN3CeC",
        "colab": {
          "base_uri": "https://localhost:8080/",
          "height": 533
        },
        "outputId": "a5fc2758-615e-4d9a-be07-198a42a6e994"
      },
      "outputs": [
        {
          "output_type": "display_data",
          "data": {
            "text/plain": [
              "<Figure size 1200x600 with 1 Axes>"
            ],
            "image/png": "[encoded data removed]"
          },
          "metadata": {}
        }
      ],
      "source": [
        "# Dữ liệu từ kết quả RMSE\n",
        "ns, rmses = zip(*rmse_results)\n",
        "\n",
        "plt.figure(figsize=(12, 6))\n",
        "\n",
        "plt.bar(ns, rmses, color=\"skyblue\", width=0.6, edgecolor='darkblue')\n",
        "\n",
        "# Thiết lập nhãn cho các trục\n",
        "plt.xlabel(\"Số người dùng tương tự (N)\", fontsize=14, fontweight='bold')\n",
        "plt.ylabel(\"RMSE\", fontsize=14, fontweight='bold')\n",
        "\n",
        "# Thiết lập tiêu đề\n",
        "plt.title(\"RMSE theo số lượng người dùng tương tự\", fontsize=16, fontweight='bold')\n",
        "\n",
        "# Điều chỉnh nhãn trục x và đường lưới\n",
        "plt.xticks(ns, fontsize=12, rotation=45)\n",
        "plt.grid(axis=\"y\", linestyle='--', alpha=0.7)\n",
        "\n",
        "# Hiển thị biểu đồ\n",
        "plt.tight_layout()\n",
        "plt.show()\n"
      ]
    }
  ],
  "metadata": {
    "colab": {
      "provenance": []
    },
    "kernelspec": {
      "display_name": "Python 3",
      "name": "python3"
    },
    "language_info": {
      "name": "python"
    }
  },
  "nbformat": 4,
  "nbformat_minor": 0
}